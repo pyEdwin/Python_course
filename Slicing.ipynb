{
 "cells": [
  {
   "cell_type": "markdown",
   "id": "99053443",
   "metadata": {},
   "source": [
    "Slicing\n",
    "\n",
    "Allowed to return a range of characters.\n",
    "\n",
    "slice(start, stop, step)\n",
    "\n",
    "step is optional (determines the increment between each index for slicing)."
   ]
  },
  {
   "cell_type": "markdown",
   "id": "17f3f0ab",
   "metadata": {},
   "source": [
    "Strings slicing"
   ]
  },
  {
   "cell_type": "code",
   "execution_count": 1,
   "id": "6a4287f4",
   "metadata": {},
   "outputs": [
    {
     "name": "stdout",
     "output_type": "stream",
     "text": [
      "a\n"
     ]
    }
   ],
   "source": [
    "my_variable = \"I am going to learn Python language.\"\n",
    "\n",
    "# 2 is the starting point. \n",
    "# 3 is the ending point, but the letter at that position will not be included.\n",
    "my_slicing_1 = my_variable[2:3] \n",
    "print(my_slicing_1)"
   ]
  },
  {
   "cell_type": "code",
   "execution_count": 2,
   "id": "9ee4db10",
   "metadata": {},
   "outputs": [
    {
     "name": "stdout",
     "output_type": "stream",
     "text": [
      "I a\n"
     ]
    }
   ],
   "source": [
    "# starting from the beginning.\n",
    "my_slicing_2 = my_variable[:3] \n",
    "print(my_slicing_2)"
   ]
  },
  {
   "cell_type": "code",
   "execution_count": 3,
   "id": "9e16634f",
   "metadata": {},
   "outputs": [
    {
     "name": "stdout",
     "output_type": "stream",
     "text": [
      "m going to learn Python language.\n"
     ]
    }
   ],
   "source": [
    "# slicing to the end.\n",
    "my_slicing_3 = my_variable[3:] \n",
    "print(my_slicing_3)"
   ]
  },
  {
   "cell_type": "code",
   "execution_count": 4,
   "id": "11de2b30",
   "metadata": {},
   "outputs": [
    {
     "name": "stdout",
     "output_type": "stream",
     "text": [
      "g\n"
     ]
    }
   ],
   "source": [
    "# from: \"g\" in \"language\"(position -3)\n",
    "# to , but not included: \"e\" (position -2)\n",
    "my_slicing_4 = my_variable[-3:-2] \n",
    "print(my_slicing_4)"
   ]
  },
  {
   "cell_type": "code",
   "execution_count": 9,
   "id": "480f00ed",
   "metadata": {},
   "outputs": [
    {
     "name": "stdout",
     "output_type": "stream",
     "text": [
      "?mla\n"
     ]
    }
   ],
   "source": [
    "# form \"?\" (position 1) \n",
    "# we count 2 letters after \"?\" and take the last letter (am) so \"m\"\n",
    "# we count 2 letters again after (am) and take the last (\\l) so 'l'\n",
    "# we count 2 letters again after (\\l) and take the last (ea) so 'a'\n",
    "# to , but not included: \"r\" (position 8)\n",
    "my_variable = \"I?am\\learning!to-speak#English.\"\n",
    "my_slicing_5 = my_variable[1:8:2] \n",
    "print(my_slicing_5)"
   ]
  },
  {
   "cell_type": "code",
   "execution_count": null,
   "id": "e3961a5d",
   "metadata": {},
   "outputs": [],
   "source": []
  }
 ],
 "metadata": {
  "kernelspec": {
   "display_name": "Python 3 (ipykernel)",
   "language": "python",
   "name": "python3"
  },
  "language_info": {
   "codemirror_mode": {
    "name": "ipython",
    "version": 3
   },
   "file_extension": ".py",
   "mimetype": "text/x-python",
   "name": "python",
   "nbconvert_exporter": "python",
   "pygments_lexer": "ipython3",
   "version": "3.9.6"
  }
 },
 "nbformat": 4,
 "nbformat_minor": 5
}
