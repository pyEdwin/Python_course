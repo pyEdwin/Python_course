{
 "cells": [
  {
   "cell_type": "markdown",
   "id": "ee941a5d",
   "metadata": {},
   "source": [
    "# Arithmetic"
   ]
  },
  {
   "cell_type": "code",
   "execution_count": null,
   "id": "b78b5121",
   "metadata": {},
   "outputs": [],
   "source": [
    "Addition ,  Subtraction , Division , Multiplication , Exponents,  Modulus"
   ]
  },
  {
   "cell_type": "markdown",
   "id": "5bad24d2",
   "metadata": {},
   "source": [
    "Addition"
   ]
  },
  {
   "cell_type": "code",
   "execution_count": 2,
   "id": "78b056b8",
   "metadata": {},
   "outputs": [
    {
     "data": {
      "text/plain": [
       "209"
      ]
     },
     "execution_count": 2,
     "metadata": {},
     "output_type": "execute_result"
    }
   ],
   "source": [
    "194 + 15"
   ]
  },
  {
   "cell_type": "markdown",
   "id": "78e22fb4",
   "metadata": {},
   "source": [
    "Subtraction"
   ]
  },
  {
   "cell_type": "code",
   "execution_count": 3,
   "id": "7f2695f9",
   "metadata": {},
   "outputs": [
    {
     "data": {
      "text/plain": [
       "26"
      ]
     },
     "execution_count": 3,
     "metadata": {},
     "output_type": "execute_result"
    }
   ],
   "source": [
    "39 -13"
   ]
  },
  {
   "cell_type": "markdown",
   "id": "da841324",
   "metadata": {},
   "source": [
    "Division"
   ]
  },
  {
   "cell_type": "code",
   "execution_count": 4,
   "id": "94cf25f9",
   "metadata": {},
   "outputs": [
    {
     "data": {
      "text/plain": [
       "5.625"
      ]
     },
     "execution_count": 4,
     "metadata": {},
     "output_type": "execute_result"
    }
   ],
   "source": [
    "45 / 8"
   ]
  },
  {
   "cell_type": "markdown",
   "id": "7787443b",
   "metadata": {},
   "source": [
    "Multiplication"
   ]
  },
  {
   "cell_type": "code",
   "execution_count": 5,
   "id": "d503d69e",
   "metadata": {},
   "outputs": [
    {
     "data": {
      "text/plain": [
       "170"
      ]
     },
     "execution_count": 5,
     "metadata": {},
     "output_type": "execute_result"
    }
   ],
   "source": [
    "34 * 5"
   ]
  },
  {
   "cell_type": "markdown",
   "id": "331d6c0d",
   "metadata": {},
   "source": [
    "Exponents\n",
    "\n",
    "3 **4  = 3 * 3 * 3 * 3"
   ]
  },
  {
   "cell_type": "code",
   "execution_count": 6,
   "id": "aeee0932",
   "metadata": {},
   "outputs": [
    {
     "data": {
      "text/plain": [
       "81"
      ]
     },
     "execution_count": 6,
     "metadata": {},
     "output_type": "execute_result"
    }
   ],
   "source": [
    "3 **4"
   ]
  },
  {
   "cell_type": "markdown",
   "id": "9e883a38",
   "metadata": {},
   "source": [
    "Modulus\n",
    "\n",
    "It is a remainder of a division.\n",
    "\n",
    "4 % 2 => 4 / 2 = 2 "
   ]
  },
  {
   "cell_type": "code",
   "execution_count": 7,
   "id": "cee1a60b",
   "metadata": {},
   "outputs": [
    {
     "data": {
      "text/plain": [
       "0"
      ]
     },
     "execution_count": 7,
     "metadata": {},
     "output_type": "execute_result"
    }
   ],
   "source": [
    "4 % 2"
   ]
  },
  {
   "cell_type": "code",
   "execution_count": null,
   "id": "62aaaa2b",
   "metadata": {},
   "outputs": [],
   "source": []
  }
 ],
 "metadata": {
  "kernelspec": {
   "display_name": "Python 3 (ipykernel)",
   "language": "python",
   "name": "python3"
  },
  "language_info": {
   "codemirror_mode": {
    "name": "ipython",
    "version": 3
   },
   "file_extension": ".py",
   "mimetype": "text/x-python",
   "name": "python",
   "nbconvert_exporter": "python",
   "pygments_lexer": "ipython3",
   "version": "3.9.6"
  }
 },
 "nbformat": 4,
 "nbformat_minor": 5
}
