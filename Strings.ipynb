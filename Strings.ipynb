{
 "cells": [
  {
   "cell_type": "markdown",
   "id": "a456b96e",
   "metadata": {},
   "source": [
    "Strings\n",
    "\n",
    "String in Python, are surrounded either by double quotation marks(\"\") or single quotation marks('')"
   ]
  },
  {
   "cell_type": "code",
   "execution_count": 3,
   "id": "fbabd69a",
   "metadata": {},
   "outputs": [
    {
     "name": "stdout",
     "output_type": "stream",
     "text": [
      "Hello World! 1\n",
      "Hello World! 2\n"
     ]
    }
   ],
   "source": [
    "string_variable_1 = \"Hello World! 1\"\n",
    "string_variable_2 = 'Hello World! 2'\n",
    "print(string_variable_1) # print() is a function that  allows to display a string.\n",
    "print(string_variable_2)"
   ]
  },
  {
   "cell_type": "markdown",
   "id": "c866eae0",
   "metadata": {},
   "source": [
    "String properties\n",
    "\n",
    "Strings have many properties, but we will see the most used."
   ]
  },
  {
   "cell_type": "code",
   "execution_count": 4,
   "id": "5b3ddbf0",
   "metadata": {},
   "outputs": [
    {
     "data": {
      "text/plain": [
       "'hello world! 1'"
      ]
     },
     "execution_count": 4,
     "metadata": {},
     "output_type": "execute_result"
    }
   ],
   "source": [
    "string_variable_1.lower()# lower() allows to lower case letters of a given string."
   ]
  },
  {
   "cell_type": "code",
   "execution_count": 5,
   "id": "7526003c",
   "metadata": {},
   "outputs": [
    {
     "data": {
      "text/plain": [
       "'I SEE MY WIFE.'"
      ]
     },
     "execution_count": 5,
     "metadata": {},
     "output_type": "execute_result"
    }
   ],
   "source": [
    "variable = \"i see my wife.\"\n",
    "variable.upper()# upper() allows to upper case letters of a given string."
   ]
  },
  {
   "cell_type": "code",
   "execution_count": 7,
   "id": "8ba151bc",
   "metadata": {},
   "outputs": [
    {
     "data": {
      "text/plain": [
       "3"
      ]
     },
     "execution_count": 7,
     "metadata": {},
     "output_type": "execute_result"
    }
   ],
   "source": [
    "variable.count(\"e\") # count allow to count how many time a character appears in a given string."
   ]
  },
  {
   "cell_type": "code",
   "execution_count": 8,
   "id": "9b835ce0",
   "metadata": {},
   "outputs": [
    {
     "data": {
      "text/plain": [
       "9"
      ]
     },
     "execution_count": 8,
     "metadata": {},
     "output_type": "execute_result"
    }
   ],
   "source": [
    "variable.find(\"w\")# find() allow to find the position of a character in a gigen string."
   ]
  },
  {
   "cell_type": "code",
   "execution_count": 9,
   "id": "32c2940a",
   "metadata": {},
   "outputs": [
    {
     "data": {
      "text/plain": [
       "'I see my wIfe.'"
      ]
     },
     "execution_count": 9,
     "metadata": {},
     "output_type": "execute_result"
    }
   ],
   "source": [
    "variable.replace(\"i\" , \"I\")# replace(\"old_value\" , \" new_value\") allow to replace a specified character or phrase with a nother one."
   ]
  },
  {
   "cell_type": "code",
   "execution_count": 10,
   "id": "74e2b3b9",
   "metadata": {},
   "outputs": [
    {
     "data": {
      "text/plain": [
       "'iHello World! 1 Hello World! 1sHello World! 1eHello World! 1eHello World! 1 Hello World! 1mHello World! 1yHello World! 1 Hello World! 1wHello World! 1iHello World! 1fHello World! 1eHello World! 1.'"
      ]
     },
     "execution_count": 10,
     "metadata": {},
     "output_type": "execute_result"
    }
   ],
   "source": [
    "string_variable_1.join(variable)# join () allows items of  an  iterable to be joined with a given string."
   ]
  },
  {
   "cell_type": "code",
   "execution_count": 11,
   "id": "38fe369c",
   "metadata": {},
   "outputs": [
    {
     "data": {
      "text/plain": [
       "'1-2-3-4-5'"
      ]
     },
     "execution_count": 11,
     "metadata": {},
     "output_type": "execute_result"
    }
   ],
   "source": [
    "y = \"12345\"\n",
    "\"-\".join(y) # y is the iterable"
   ]
  },
  {
   "cell_type": "code",
   "execution_count": null,
   "id": "bd6ad815",
   "metadata": {},
   "outputs": [],
   "source": []
  }
 ],
 "metadata": {
  "kernelspec": {
   "display_name": "Python 3 (ipykernel)",
   "language": "python",
   "name": "python3"
  },
  "language_info": {
   "codemirror_mode": {
    "name": "ipython",
    "version": 3
   },
   "file_extension": ".py",
   "mimetype": "text/x-python",
   "name": "python",
   "nbconvert_exporter": "python",
   "pygments_lexer": "ipython3",
   "version": "3.9.6"
  }
 },
 "nbformat": 4,
 "nbformat_minor": 5
}
