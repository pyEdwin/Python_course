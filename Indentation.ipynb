{
 "cells": [
  {
   "cell_type": "markdown",
   "id": "150c53b9",
   "metadata": {},
   "source": [
    "Indentation\n",
    "\n",
    "Indentation is really importand in Python. It refers to spaces at the beginning of a code line and block of code. We should use tab or space for indentation.\n",
    "\n",
    "Example:\n",
    "\n",
    "def indentation():\n",
    "    print(\"Indentation is crucial in Python\")"
   ]
  },
  {
   "cell_type": "code",
   "execution_count": 1,
   "id": "e214afbd",
   "metadata": {},
   "outputs": [
    {
     "name": "stdout",
     "output_type": "stream",
     "text": [
      "Indentation is crucial in Python.\n"
     ]
    }
   ],
   "source": [
    "def indentation():\n",
    "    print(\"Indentation is crucial in Python.\")\n",
    "indentation()"
   ]
  },
  {
   "cell_type": "code",
   "execution_count": 3,
   "id": "b6e3e9fb",
   "metadata": {},
   "outputs": [
    {
     "ename": "IndentationError",
     "evalue": "expected an indented block (2392147292.py, line 2)",
     "output_type": "error",
     "traceback": [
      "\u001b[1;36m  Input \u001b[1;32mIn [3]\u001b[1;36m\u001b[0m\n\u001b[1;33m    print(\"Indentation is crucial in Python.\")\u001b[0m\n\u001b[1;37m    ^\u001b[0m\n\u001b[1;31mIndentationError\u001b[0m\u001b[1;31m:\u001b[0m expected an indented block\n"
     ]
    }
   ],
   "source": [
    "def indentation():\n",
    "print(\"Indentation is crucial in Python.\")\n",
    "indentation()"
   ]
  },
  {
   "cell_type": "code",
   "execution_count": null,
   "id": "4ea5a06b",
   "metadata": {},
   "outputs": [],
   "source": []
  }
 ],
 "metadata": {
  "kernelspec": {
   "display_name": "Python 3 (ipykernel)",
   "language": "python",
   "name": "python3"
  },
  "language_info": {
   "codemirror_mode": {
    "name": "ipython",
    "version": 3
   },
   "file_extension": ".py",
   "mimetype": "text/x-python",
   "name": "python",
   "nbconvert_exporter": "python",
   "pygments_lexer": "ipython3",
   "version": "3.9.6"
  }
 },
 "nbformat": 4,
 "nbformat_minor": 5
}
