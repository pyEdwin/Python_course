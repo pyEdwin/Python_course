{
 "cells": [
  {
   "cell_type": "markdown",
   "id": "4629bb97",
   "metadata": {},
   "source": [
    "Lists\n",
    "\n",
    "List is used to store different and multipe items in a single variable. We use square brackets to \n",
    "\n",
    "create a list ([])."
   ]
  },
  {
   "cell_type": "code",
   "execution_count": 1,
   "id": "7add5b01",
   "metadata": {},
   "outputs": [
    {
     "data": {
      "text/plain": [
       "[1, 2, 3, True, 'Hello']"
      ]
     },
     "execution_count": 1,
     "metadata": {},
     "output_type": "execute_result"
    }
   ],
   "source": [
    "list_variable = [ 1 , 2, 3 , True , \"Hello\"]\n",
    "\n",
    "list_variable"
   ]
  },
  {
   "cell_type": "markdown",
   "id": "e5276248",
   "metadata": {},
   "source": [
    "Iterating over a list"
   ]
  },
  {
   "cell_type": "code",
   "execution_count": 2,
   "id": "a45bc152",
   "metadata": {},
   "outputs": [
    {
     "name": "stdout",
     "output_type": "stream",
     "text": [
      "1\n",
      "2\n",
      "3\n",
      "True\n",
      "Hello\n"
     ]
    }
   ],
   "source": [
    "#Iterate using for loop\n",
    "\n",
    "for i in list_variable:\n",
    "    print(i)"
   ]
  },
  {
   "cell_type": "code",
   "execution_count": 7,
   "id": "7e173938",
   "metadata": {},
   "outputs": [
    {
     "name": "stdout",
     "output_type": "stream",
     "text": [
      "0  =>  1\n",
      "1  =>  2\n",
      "2  =>  3\n",
      "3  =>  True\n",
      "4  =>  Hello\n"
     ]
    }
   ],
   "source": [
    "#Iterate using range\n",
    "\n",
    "for i in range(len(list_variable)):\n",
    "    print(i , ' => ' , list_variable[i])"
   ]
  },
  {
   "cell_type": "code",
   "execution_count": null,
   "id": "46cd1036",
   "metadata": {},
   "outputs": [],
   "source": [
    "#Iterate using while loop\n",
    "i = 0\n",
    "\n",
    "while i <  len(list_variable) :\n",
    "    \n",
    "    print(list_variable[i])\n",
    "    # Increment the value of i (i= 1 , i= 2 , i= 3 , i= 4 )\n",
    "    i = i + 1\n",
    "    "
   ]
  },
  {
   "cell_type": "code",
   "execution_count": 11,
   "id": "8511d541",
   "metadata": {},
   "outputs": [
    {
     "name": "stdout",
     "output_type": "stream",
     "text": [
      "1\n",
      "2\n",
      "3\n",
      "True\n",
      "Hello\n"
     ]
    }
   ],
   "source": [
    "#Iterate using list comprehension\n",
    "[print(i) for i in list_variable]"
   ]
  }
 ],
 "metadata": {
  "kernelspec": {
   "display_name": "Python 3 (ipykernel)",
   "language": "python",
   "name": "python3"
  },
  "language_info": {
   "codemirror_mode": {
    "name": "ipython",
    "version": 3
   },
   "file_extension": ".py",
   "mimetype": "text/x-python",
   "name": "python",
   "nbconvert_exporter": "python",
   "pygments_lexer": "ipython3",
   "version": "3.9.6"
  }
 },
 "nbformat": 4,
 "nbformat_minor": 5
}
