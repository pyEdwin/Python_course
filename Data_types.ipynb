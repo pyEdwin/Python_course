{
 "cells": [
  {
   "cell_type": "markdown",
   "id": "6466635b",
   "metadata": {},
   "source": [
    "Data types\n",
    "\n",
    "Python has different useful data types such as : Numerics, Booleans , Sequences and Dictionaries. "
   ]
  },
  {
   "cell_type": "markdown",
   "id": "39662cb8",
   "metadata": {},
   "source": [
    "Numerics\n",
    "\n",
    "We have int(integer) and float."
   ]
  },
  {
   "cell_type": "code",
   "execution_count": 1,
   "id": "9834cc2c",
   "metadata": {},
   "outputs": [],
   "source": [
    "int_number = 1234 # ints are numbers without decimals\n",
    "\n",
    "float_number = 12.4 # floats are numbers with decimals"
   ]
  },
  {
   "cell_type": "markdown",
   "id": "308625e3",
   "metadata": {},
   "source": [
    "Booleans\n",
    "\n",
    "Booleans are True (1) or False (0) values."
   ]
  },
  {
   "cell_type": "code",
   "execution_count": 2,
   "id": "93ff1dfb",
   "metadata": {},
   "outputs": [],
   "source": [
    "I_am_writing_this_course = True\n",
    "I_created_Pyhton_language = False"
   ]
  },
  {
   "cell_type": "markdown",
   "id": "c25ee760",
   "metadata": {},
   "source": [
    "Sequences\n",
    "\n",
    "Sequences are data types that can be iterated over.Those data types are : list , set , tuple and str (string)."
   ]
  },
  {
   "cell_type": "code",
   "execution_count": 3,
   "id": "40fcd9df",
   "metadata": {},
   "outputs": [],
   "source": [
    "list_data = [True, 1 , \"Hello\"]\n",
    "set_data = {False, 6 , \"World\"}\n",
    "tuple_data =(True, 4 , \"Me\")\n",
    "string_data = \"My name is pyEdwin.\"\n",
    "             "
   ]
  },
  {
   "cell_type": "markdown",
   "id": "b6ade80e",
   "metadata": {},
   "source": [
    "Dictionaries\n",
    "\n",
    "Dictionaries are used to store data values in key:value pairs.\n",
    "\n",
    "car = {\n",
    "    \n",
    "    \"color\": \"Black\" ,\n",
    "    \"year\" : 2022 ,\n",
    "    \"price\" : \"$10000000\"\n",
    "}\n",
    "\n",
    "\n",
    "key => color \n",
    "\n",
    "value => Black"
   ]
  },
  {
   "cell_type": "code",
   "execution_count": 4,
   "id": "41f82220",
   "metadata": {},
   "outputs": [],
   "source": [
    "car = {\n",
    "    \n",
    "    \"color\": \"Black\" ,\n",
    "    \"year\" : 2022 ,\n",
    "    \"price\" : \"$10000000\"\n",
    "}"
   ]
  }
 ],
 "metadata": {
  "kernelspec": {
   "display_name": "Python 3 (ipykernel)",
   "language": "python",
   "name": "python3"
  },
  "language_info": {
   "codemirror_mode": {
    "name": "ipython",
    "version": 3
   },
   "file_extension": ".py",
   "mimetype": "text/x-python",
   "name": "python",
   "nbconvert_exporter": "python",
   "pygments_lexer": "ipython3",
   "version": "3.9.6"
  }
 },
 "nbformat": 4,
 "nbformat_minor": 5
}
