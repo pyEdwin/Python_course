{
 "cells": [
  {
   "cell_type": "markdown",
   "id": "1e27800c",
   "metadata": {},
   "source": [
    "Indexing\n",
    "\n",
    "Referred to an element of an iterable( list and string) by its position within the iterable.The index starts with 0.\n"
   ]
  },
  {
   "cell_type": "markdown",
   "id": "f58414c0",
   "metadata": {},
   "source": [
    "String indexing"
   ]
  },
  {
   "cell_type": "code",
   "execution_count": 1,
   "id": "e10a90fe",
   "metadata": {},
   "outputs": [
    {
     "name": "stdout",
     "output_type": "stream",
     "text": [
      "H\n"
     ]
    }
   ],
   "source": [
    "my_variable = \"Helle World!\"\n",
    "my_first_element = my_variable [0]\n",
    "print(my_first_element)"
   ]
  },
  {
   "cell_type": "code",
   "execution_count": 2,
   "id": "4cc8d608",
   "metadata": {},
   "outputs": [
    {
     "name": "stdout",
     "output_type": "stream",
     "text": [
      "e\n"
     ]
    }
   ],
   "source": [
    "my_second_element = my_variable [1]\n",
    "print(my_second_element)"
   ]
  },
  {
   "cell_type": "code",
   "execution_count": 4,
   "id": "3b3f99c7",
   "metadata": {},
   "outputs": [
    {
     "name": "stdout",
     "output_type": "stream",
     "text": [
      "!\n"
     ]
    }
   ],
   "source": [
    "my_last_elemet =  my_variable [-1]\n",
    "print(my_last_elemet )"
   ]
  },
  {
   "cell_type": "markdown",
   "id": "76704906",
   "metadata": {},
   "source": [
    "List indexing"
   ]
  },
  {
   "cell_type": "code",
   "execution_count": 6,
   "id": "6583f6e0",
   "metadata": {},
   "outputs": [
    {
     "name": "stdout",
     "output_type": "stream",
     "text": [
      "A\n"
     ]
    }
   ],
   "source": [
    "my_list = [\"A\" , 1 , True , \"Pierre\"]\n",
    "my_first_element = my_list [0]\n",
    "print(my_first_element)"
   ]
  },
  {
   "cell_type": "code",
   "execution_count": 7,
   "id": "7cb5ffce",
   "metadata": {},
   "outputs": [
    {
     "name": "stdout",
     "output_type": "stream",
     "text": [
      "1\n"
     ]
    }
   ],
   "source": [
    "my_second_element = my_list [1]\n",
    "print(my_second_element)"
   ]
  },
  {
   "cell_type": "code",
   "execution_count": 8,
   "id": "4556c9fc",
   "metadata": {},
   "outputs": [
    {
     "name": "stdout",
     "output_type": "stream",
     "text": [
      "Pierre\n"
     ]
    }
   ],
   "source": [
    "my_last_elemet =  my_list [-1]\n",
    "print(my_last_elemet )"
   ]
  },
  {
   "cell_type": "code",
   "execution_count": null,
   "id": "3c99cf48",
   "metadata": {},
   "outputs": [],
   "source": []
  }
 ],
 "metadata": {
  "kernelspec": {
   "display_name": "Python 3 (ipykernel)",
   "language": "python",
   "name": "python3"
  },
  "language_info": {
   "codemirror_mode": {
    "name": "ipython",
    "version": 3
   },
   "file_extension": ".py",
   "mimetype": "text/x-python",
   "name": "python",
   "nbconvert_exporter": "python",
   "pygments_lexer": "ipython3",
   "version": "3.9.6"
  }
 },
 "nbformat": 4,
 "nbformat_minor": 5
}
