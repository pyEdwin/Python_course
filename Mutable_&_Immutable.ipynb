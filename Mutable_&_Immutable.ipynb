{
 "cells": [
  {
   "cell_type": "markdown",
   "id": "a3430a69",
   "metadata": {},
   "source": [
    "Mutable & Immutable"
   ]
  },
  {
   "cell_type": "markdown",
   "id": "27cac412",
   "metadata": {},
   "source": [
    "Mutable\n",
    "\n",
    "Mutable is when the internal state of an object can change. Mutalble objects are : lists , sets and dictionaries.\n"
   ]
  },
  {
   "cell_type": "code",
   "execution_count": 1,
   "id": "3e2cf167",
   "metadata": {},
   "outputs": [
    {
     "data": {
      "text/plain": [
       "[0, 2, 3]"
      ]
     },
     "execution_count": 1,
     "metadata": {},
     "output_type": "execute_result"
    }
   ],
   "source": [
    "mutable_list = [1, 2 , 3]\n",
    "mutable_list[0]  = 0\n",
    "mutable_list"
   ]
  },
  {
   "cell_type": "markdown",
   "id": "9dcaf4d7",
   "metadata": {},
   "source": [
    "Immutable\n",
    "\n",
    "Immutable is when the internal state of an object can not change. Immutalble objects are : strings , tuples and numerics."
   ]
  },
  {
   "cell_type": "code",
   "execution_count": 2,
   "id": "fa6cf2b4",
   "metadata": {},
   "outputs": [
    {
     "ename": "TypeError",
     "evalue": "'tuple' object does not support item assignment",
     "output_type": "error",
     "traceback": [
      "\u001b[1;31m---------------------------------------------------------------------------\u001b[0m",
      "\u001b[1;31mTypeError\u001b[0m                                 Traceback (most recent call last)",
      "Input \u001b[1;32mIn [2]\u001b[0m, in \u001b[0;36m<cell line: 2>\u001b[1;34m()\u001b[0m\n\u001b[0;32m      1\u001b[0m immutable_tuple \u001b[38;5;241m=\u001b[39m (\u001b[38;5;241m1\u001b[39m , \u001b[38;5;241m3\u001b[39m, \u001b[38;5;28;01mTrue\u001b[39;00m)\n\u001b[1;32m----> 2\u001b[0m immutable_tuple[\u001b[38;5;241m2\u001b[39m] \u001b[38;5;241m=\u001b[39m \u001b[38;5;28;01mFalse\u001b[39;00m\n\u001b[0;32m      3\u001b[0m immutable_tuple\n",
      "\u001b[1;31mTypeError\u001b[0m: 'tuple' object does not support item assignment"
     ]
    }
   ],
   "source": [
    "immutable_tuple = (1 , 3, True)\n",
    "immutable_tuple[2] = False\n",
    "immutable_tuple"
   ]
  },
  {
   "cell_type": "code",
   "execution_count": null,
   "id": "39ecabec",
   "metadata": {},
   "outputs": [],
   "source": []
  }
 ],
 "metadata": {
  "kernelspec": {
   "display_name": "Python 3 (ipykernel)",
   "language": "python",
   "name": "python3"
  },
  "language_info": {
   "codemirror_mode": {
    "name": "ipython",
    "version": 3
   },
   "file_extension": ".py",
   "mimetype": "text/x-python",
   "name": "python",
   "nbconvert_exporter": "python",
   "pygments_lexer": "ipython3",
   "version": "3.9.6"
  }
 },
 "nbformat": 4,
 "nbformat_minor": 5
}
