{
 "cells": [
  {
   "cell_type": "markdown",
   "id": "23378a4b",
   "metadata": {},
   "source": [
    "Numbers"
   ]
  },
  {
   "cell_type": "markdown",
   "id": "66684ce6",
   "metadata": {},
   "source": [
    "Integers(int)\n",
    "\n",
    "int is a number without a decimal."
   ]
  },
  {
   "cell_type": "code",
   "execution_count": 1,
   "id": "60de4f4f",
   "metadata": {},
   "outputs": [
    {
     "data": {
      "text/plain": [
       "123"
      ]
     },
     "execution_count": 1,
     "metadata": {},
     "output_type": "execute_result"
    }
   ],
   "source": [
    "int_variable = 123\n",
    "int_variable"
   ]
  },
  {
   "cell_type": "markdown",
   "id": "ced161b4",
   "metadata": {},
   "source": [
    "Floats\n",
    "float is a numbers with a decimal."
   ]
  },
  {
   "cell_type": "code",
   "execution_count": null,
   "id": "a2c8678a",
   "metadata": {},
   "outputs": [],
   "source": [
    "float_varible = 12.345\n",
    "float_varible"
   ]
  }
 ],
 "metadata": {
  "kernelspec": {
   "display_name": "Python 3 (ipykernel)",
   "language": "python",
   "name": "python3"
  },
  "language_info": {
   "codemirror_mode": {
    "name": "ipython",
    "version": 3
   },
   "file_extension": ".py",
   "mimetype": "text/x-python",
   "name": "python",
   "nbconvert_exporter": "python",
   "pygments_lexer": "ipython3",
   "version": "3.9.6"
  }
 },
 "nbformat": 4,
 "nbformat_minor": 5
}
