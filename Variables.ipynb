{
 "cells": [
  {
   "cell_type": "markdown",
   "id": "c7fc3828",
   "metadata": {},
   "source": [
    "# Variables\n",
    "\n",
    "Variables are container that holds data such as : numbers an characters."
   ]
  },
  {
   "cell_type": "code",
   "execution_count": 1,
   "id": "dec440a0",
   "metadata": {},
   "outputs": [],
   "source": [
    "my_variable = \"variable_name_between_quotes\""
   ]
  },
  {
   "cell_type": "markdown",
   "id": "1136bdcf",
   "metadata": {},
   "source": [
    "Naming variables\n",
    "\n",
    "* Python variable names can contain only letters, numbers, and underscores.\n",
    "* Python variable names can start with a letter or an underscore, but they cannot start with a number.\n",
    "* Spaces are not allowed in Python variable names.\n",
    "* Python variable names can not be keywords and function names.\n",
    "\n",
    "my_name_is = \"Python\" (Good)\n",
    "1_my_name_is = \"Java\" (Wrong)"
   ]
  },
  {
   "cell_type": "markdown",
   "id": "863148d6",
   "metadata": {},
   "source": [
    "print()\n",
    "\n",
    "print() is a python function that allows to show the value of a variable."
   ]
  },
  {
   "cell_type": "code",
   "execution_count": 2,
   "id": "c4c26e5d",
   "metadata": {},
   "outputs": [
    {
     "name": "stdout",
     "output_type": "stream",
     "text": [
      "variable_name_between_quotes\n"
     ]
    }
   ],
   "source": [
    "print(my_variable)"
   ]
  },
  {
   "cell_type": "code",
   "execution_count": null,
   "id": "dcac4054",
   "metadata": {},
   "outputs": [],
   "source": [
    "Assagning a variable\n",
    "3 steps :\n",
    "    1- Meaningful variable name\n",
    "    2- =\n",
    "    3- Data\n",
    "my_variable(1) =(2) \"variable_name_between_quotes\"(3)"
   ]
  },
  {
   "cell_type": "code",
   "execution_count": 3,
   "id": "ba2c1636",
   "metadata": {},
   "outputs": [],
   "source": [
    "my_variable = 1234"
   ]
  },
  {
   "cell_type": "code",
   "execution_count": 4,
   "id": "57ede3c3",
   "metadata": {},
   "outputs": [
    {
     "name": "stdout",
     "output_type": "stream",
     "text": [
      "1234\n"
     ]
    }
   ],
   "source": [
    "print(my_variable)"
   ]
  },
  {
   "cell_type": "markdown",
   "id": "87ebfcb8",
   "metadata": {},
   "source": [
    "my_variable changed value  because I reassigned his value to a number (1234)."
   ]
  }
 ],
 "metadata": {
  "kernelspec": {
   "display_name": "Python 3 (ipykernel)",
   "language": "python",
   "name": "python3"
  },
  "language_info": {
   "codemirror_mode": {
    "name": "ipython",
    "version": 3
   },
   "file_extension": ".py",
   "mimetype": "text/x-python",
   "name": "python",
   "nbconvert_exporter": "python",
   "pygments_lexer": "ipython3",
   "version": "3.9.6"
  }
 },
 "nbformat": 4,
 "nbformat_minor": 5
}
